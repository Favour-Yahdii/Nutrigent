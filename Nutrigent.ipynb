{
  "nbformat": 4,
  "nbformat_minor": 0,
  "metadata": {
    "colab": {
      "provenance": [],
      "authorship_tag": "ABX9TyNC++VNd2yS6tBDQCNpM1aV",
      "include_colab_link": true
    },
    "kernelspec": {
      "name": "python3",
      "display_name": "Python 3"
    },
    "language_info": {
      "name": "python"
    }
  },
  "cells": [
    {
      "cell_type": "markdown",
      "metadata": {
        "id": "view-in-github",
        "colab_type": "text"
      },
      "source": [
        "<a href=\"https://colab.research.google.com/github/Favour-Yahdii/Nutrigent/blob/main/Nutrigent.ipynb\" target=\"_parent\"><img src=\"https://colab.research.google.com/assets/colab-badge.svg\" alt=\"Open In Colab\"/></a>"
      ]
    },
    {
      "cell_type": "code",
      "execution_count": null,
      "metadata": {
        "id": "SN-r1H6VYSK4"
      },
      "outputs": [],
      "source": [
        "# set up API keys and test fetching data\n",
        "# store fetched data in a cloud database.\n",
        "# collect base set of recipes for testing\n",
        "# spacy to create simple keyword in ingredient to keyword in recipe database link. (prioritize recipes with most overlap in ingredients)\n",
        "# the generation part (7 days of meals, no ingredient overuse)\n"
      ]
    },
    {
      "cell_type": "code",
      "source": [
        "from google.colab import userdata"
      ],
      "metadata": {
        "id": "gbvLBuNVw211"
      },
      "execution_count": 20,
      "outputs": []
    },
    {
      "cell_type": "markdown",
      "source": [
        "### Set up APIs"
      ],
      "metadata": {
        "id": "i7AOo8dYZ_TX"
      }
    },
    {
      "cell_type": "code",
      "source": [
        "# Import relevant functionality\n",
        "from langchain_core.messages import HumanMessage, SystemMessage\n",
        "from langgraph.checkpoint.memory import MemorySaver\n",
        "from langgraph.prebuilt import create_react_agent\n",
        "from langchain_core.tools import tool\n",
        "from langchain.chains import LLMChain\n",
        "from langchain_core.prompts import PromptTemplate\n",
        "from langchain_huggingface import ChatHuggingFace\n",
        "from langchain_huggingface import HuggingFaceEndpoint\n",
        "from typing import List, Dict\n",
        "from langchain_groq import ChatGroq\n",
        "from google.colab import userdata\n",
        "import requests\n",
        "import json\n",
        "\n",
        "api_key = userdata.get('spoonacular')\n",
        "@tool\n",
        "def get_recipe(\n",
        "    api_key: str,\n",
        "    ingredients: List[str],\n",
        "    number: int,\n",
        "    ranking: int,\n",
        "    ignore_pantry: bool) -> Dict[str, any]:\n",
        "    \"\"\"\n",
        "    Get a recipe based on a list of ingredients.\n",
        "    \"\"\"\n",
        "    api_key = userdata.get('spoonacular')\n",
        "    base_url = \"https://api.spoonacular.com/recipes/findByIngredients\"\n",
        "    params = {\n",
        "        'apiKey': api_key,\n",
        "        'ingredients': ', '.join(ingredients),\n",
        "        'number': number,\n",
        "        'ranking': ranking,\n",
        "        'ignorePantry': False\n",
        "    }\n",
        "\n",
        "    try:\n",
        "        response = requests.get(base_url, params=params)\n",
        "        response.raise_for_status()\n",
        "        data = response.json()\n",
        "        return json.dumps(data)\n",
        "    except requests.exceptions.RequestException as e:\n",
        "        print(f\"Error: {e}\")\n",
        "        return None\n",
        "\n",
        "# Create the agent\n",
        "memory = MemorySaver()\n",
        "groq_key = userdata.get('groq')\n",
        "llm = ChatGroq(model=\"llama3-8b-8192\", api_key=groq_key)\n",
        "tools = [get_recipe]\n",
        "agent_executor = create_react_agent(llm, tools, checkpointer=memory)\n",
        "\n",
        "# Use the agent\n",
        "config = {\"configurable\": {\"thread_id\": \"abc123\"}}\n",
        "for chunk in agent_executor.stream(\n",
        "    {\"messages\":\n",
        "     [HumanMessage(content=\"hi im bob! and I would like recipes based on some ingredients I have. My main ingredients are rice and chicken, give me 2 recipes that maximise these ingredients.\")]}, config\n",
        "):\n",
        "    print(chunk)\n",
        "    print(\"----\")\n",
        "\n",
        "# for chunk in agent_executor.stream(\n",
        "#     {\"messages\": [HumanMessage(content=\"what recipes can be made with rice and chicken?\", metadata={\"apiKey\":api_key})]}, config\n",
        "# ):\n",
        "#     print(chunk)\n",
        "#     print(\"----\")"
      ],
      "metadata": {
        "colab": {
          "base_uri": "https://localhost:8080/"
        },
        "id": "bfC3J2ZB1Alb",
        "outputId": "32df3b24-e736-4ee7-a6c1-5e68a0e5f915"
      },
      "execution_count": 42,
      "outputs": [
        {
          "output_type": "stream",
          "name": "stdout",
          "text": [
            "{'agent': {'messages': [AIMessage(content='', additional_kwargs={'tool_calls': [{'id': 'call_7qdk', 'function': {'arguments': '{\"api_key\":\"your_api_key\",\"ignore_pantry\":false,\"ingredients\":[\"rice\",\"chicken\"],\"number\":2,\"ranking\":0,\"ignore_pantry\":false}', 'name': 'get_recipe'}, 'type': 'function'}]}, response_metadata={'token_usage': {'completion_tokens': 115, 'prompt_tokens': 1043, 'total_tokens': 1158, 'completion_time': 0.095833333, 'prompt_time': 0.126375399, 'queue_time': 0.02106681499999999, 'total_time': 0.222208732}, 'model_name': 'llama3-8b-8192', 'system_fingerprint': 'fp_a97cfe35ae', 'finish_reason': 'tool_calls', 'logprobs': None}, id='run-06ce7571-71ea-4d1d-bdf0-571896cb98b1-0', tool_calls=[{'name': 'get_recipe', 'args': {'api_key': 'your_api_key', 'ignore_pantry': False, 'ingredients': ['rice', 'chicken'], 'number': 2, 'ranking': 0}, 'id': 'call_7qdk', 'type': 'tool_call'}], usage_metadata={'input_tokens': 1043, 'output_tokens': 115, 'total_tokens': 1158})]}}\n",
            "----\n",
            "{'tools': {'messages': [ToolMessage(content='[{\"id\": 649985, \"title\": \"Light and Chunky Chicken Soup\", \"image\": \"https://img.spoonacular.com/recipes/649985-312x231.jpg\", \"imageType\": \"jpg\", \"usedIngredientCount\": 2, \"missedIngredientCount\": 8, \"missedIngredients\": [{\"id\": 11124, \"amount\": 1.0, \"unit\": \"cup\", \"unitLong\": \"cup\", \"unitShort\": \"cup\", \"aisle\": \"Produce\", \"name\": \"carrot\", \"original\": \"1 cup Chopped carrot\", \"originalName\": \"Chopped carrot\", \"meta\": [\"chopped\"], \"image\": \"https://img.spoonacular.com/ingredients_100x100/sliced-carrot.png\"}, {\"id\": 11143, \"amount\": 1.0, \"unit\": \"stick\", \"unitLong\": \"stick\", \"unitShort\": \"stick\", \"aisle\": \"Produce\", \"name\": \"celery finelly\", \"original\": \"1 stick of Celery finelly chopped\", \"originalName\": \"Celery finelly chopped\", \"meta\": [\"chopped\"], \"image\": \"https://img.spoonacular.com/ingredients_100x100/celery.jpg\"}, {\"id\": 2003, \"amount\": 0.5, \"unit\": \"teaspoon\", \"unitLong\": \"teaspoons\", \"unitShort\": \"tsp\", \"aisle\": \"Spices and Seasonings\", \"name\": \"basil\", \"original\": \"1/2 teaspoon dried basil\", \"originalName\": \"dried basil\", \"meta\": [\"dried\"], \"extendedName\": \"dried basil\", \"image\": \"https://img.spoonacular.com/ingredients_100x100/basil.jpg\"}, {\"id\": 2036, \"amount\": 0.5, \"unit\": \"teaspoon\", \"unitLong\": \"teaspoons\", \"unitShort\": \"tsp\", \"aisle\": \"Produce\", \"name\": \"rosemary\", \"original\": \"1/2 teaspoon dried rosemary\", \"originalName\": \"dried rosemary\", \"meta\": [\"dried\"], \"extendedName\": \"dried rosemary\", \"image\": \"https://img.spoonacular.com/ingredients_100x100/rosemary.jpg\"}, {\"id\": 10511297, \"amount\": 6.0, \"unit\": \"servings\", \"unitLong\": \"servings\", \"unitShort\": \"servings\", \"aisle\": \"Produce\", \"name\": \"parsley\", \"original\": \"fresh parsley\", \"originalName\": \"fresh parsley\", \"meta\": [\"fresh\"], \"extendedName\": \"fresh parsley\", \"image\": \"https://img.spoonacular.com/ingredients_100x100/parsley.jpg\"}, {\"id\": 11282, \"amount\": 0.5, \"unit\": \"\", \"unitLong\": \"\", \"unitShort\": \"\", \"aisle\": \"Produce\", \"name\": \"a onion\", \"original\": \"1/2 a large onion or 1 small onion the size of an egg\", \"originalName\": \"a large onion or 1 small onion the size of an egg\", \"meta\": [], \"image\": \"https://img.spoonacular.com/ingredients_100x100/brown-onion.png\"}, {\"id\": 10211821, \"amount\": 6.0, \"unit\": \"servings\", \"unitLong\": \"servings\", \"unitShort\": \"servings\", \"aisle\": \"Produce\", \"name\": \"bell pepper\", \"original\": \"Pepper\", \"originalName\": \"Pepper\", \"meta\": [], \"image\": \"https://img.spoonacular.com/ingredients_100x100/bell-pepper-orange.png\"}, {\"id\": 2047, \"amount\": 0.5, \"unit\": \"teaspoon\", \"unitLong\": \"teaspoons\", \"unitShort\": \"tsp\", \"aisle\": \"Spices and Seasonings\", \"name\": \"salt\", \"original\": \"1/2 teaspoon Salt\", \"originalName\": \"Salt\", \"meta\": [], \"image\": \"https://img.spoonacular.com/ingredients_100x100/salt.jpg\"}], \"usedIngredients\": [{\"id\": 10020444, \"amount\": 1.0, \"unit\": \"cup\", \"unitLong\": \"cup\", \"unitShort\": \"cup\", \"aisle\": \"Pasta and Rice\", \"name\": \"basmati rice\", \"original\": \"1 cup of basmati rice\", \"originalName\": \"basmati rice\", \"meta\": [], \"image\": \"https://img.spoonacular.com/ingredients_100x100/rice-white-long-grain-or-basmatii-cooked.jpg\"}, {\"id\": 5006, \"amount\": 1.0, \"unit\": \"\", \"unitLong\": \"\", \"unitShort\": \"\", \"aisle\": \"Meat\", \"name\": \"chicken\", \"original\": \"1 whole Chicken\", \"originalName\": \"whole Chicken\", \"meta\": [\"whole\"], \"extendedName\": \"whole chicken\", \"image\": \"https://img.spoonacular.com/ingredients_100x100/whole-chicken.jpg\"}], \"unusedIngredients\": [], \"likes\": 1}, {\"id\": 647681, \"title\": \"Hydrabadi Dum Biriyani\", \"image\": \"https://img.spoonacular.com/recipes/647681-312x231.jpg\", \"imageType\": \"jpg\", \"usedIngredientCount\": 2, \"missedIngredientCount\": 9, \"missedIngredients\": [{\"id\": 5062, \"amount\": 2.0, \"unit\": \"servings\", \"unitLong\": \"servings\", \"unitShort\": \"servings\", \"aisle\": \"Meat\", \"name\": \"leg pieces\", \"original\": \"Chicken breast or leg pieces\", \"originalName\": \"Chicken breast or leg pieces\", \"meta\": [], \"image\": \"https://img.spoonacular.com/ingredients_100x100/chicken-breasts.png\"}, {\"id\": 11282, \"amount\": 2.0, \"unit\": \"small\", \"unitLong\": \"smalls\", \"unitShort\": \"small\", \"aisle\": \"Produce\", \"name\": \"onions\", \"original\": \"2 smalls onions thinly sliced (fried)\", \"originalName\": \"s onions thinly sliced (fried)\", \"meta\": [\"thinly sliced\", \"(fried)\"], \"image\": \"https://img.spoonacular.com/ingredients_100x100/brown-onion.png\"}, {\"id\": 93663, \"amount\": 1.0, \"unit\": \"cloves\", \"unitLong\": \"clove\", \"unitShort\": \"cloves\", \"aisle\": \"Spices and Seasonings\", \"name\": \"garam masala\", \"original\": \"Whole garam masala (cardamoms,pepper, cinnamon,cloves,star anise, 2 cups thick curd\", \"originalName\": \"Whole garam masala (cardamoms,pepper, cinnamon, ,star anise, 2 cups thick curd\", \"meta\": [\"whole\", \"thick\"], \"extendedName\": \"whole garam masala\", \"image\": \"https://img.spoonacular.com/ingredients_100x100/garam-masala.jpg\"}, {\"id\": 2043, \"amount\": 0.25, \"unit\": \"teaspoon\", \"unitLong\": \"teaspoons\", \"unitShort\": \"tsp\", \"aisle\": \"Spices and Seasonings\", \"name\": \"turmeric powder\", \"original\": \"1/4 teaspoon Turmeric powder\", \"originalName\": \"Turmeric powder\", \"meta\": [], \"image\": \"https://img.spoonacular.com/ingredients_100x100/turmeric.jpg\"}, {\"id\": 10093754, \"amount\": 2.0, \"unit\": \"teaspoons\", \"unitLong\": \"teaspoons\", \"unitShort\": \"tsp\", \"aisle\": \"Ethnic Foods\", \"name\": \"ginger garlic paste\", \"original\": \"2 teaspoons Ginger garlic paste\", \"originalName\": \"Ginger garlic paste\", \"meta\": [], \"image\": \"https://img.spoonacular.com/ingredients_100x100/ginger-garlic-paste.png\"}, {\"id\": 2064, \"amount\": 1.0, \"unit\": \"bunch\", \"unitLong\": \"bunch\", \"unitShort\": \"bunch\", \"aisle\": \"Produce\", \"name\": \"coriander & mint leaves\", \"original\": \"A bunch coriander & mint leaves\", \"originalName\": \"A coriander & mint leaves\", \"meta\": [], \"image\": \"https://img.spoonacular.com/ingredients_100x100/mint.jpg\"}, {\"id\": 93632, \"amount\": 2.0, \"unit\": \"servings\", \"unitLong\": \"servings\", \"unitShort\": \"servings\", \"aisle\": \"Ethnic Foods\", \"name\": \"ghee as required\", \"original\": \"ghee as required\", \"originalName\": \"ghee as required\", \"meta\": [], \"image\": \"https://img.spoonacular.com/ingredients_100x100/ghee.jpg\"}, {\"id\": 1077, \"amount\": 1.0, \"unit\": \"inch\", \"unitLong\": \"inch\", \"unitShort\": \"inch\", \"aisle\": \"Milk, Eggs, Other Dairy\", \"name\": \"saffron strands dissolved warm milk\", \"original\": \"inch Saffron strands dissolved warm milk\", \"originalName\": \"Saffron strands dissolved warm milk\", \"meta\": [], \"image\": \"https://img.spoonacular.com/ingredients_100x100/milk.png\"}, {\"id\": 93709, \"amount\": 2.0, \"unit\": \"servings\", \"unitLong\": \"servings\", \"unitShort\": \"servings\", \"aisle\": \"Canned and Jarred\", \"name\": \"egg & fried onions\", \"original\": \"Boiled egg & fried onions for garnishing\", \"originalName\": \"Boiled egg & fried onions for garnishing\", \"meta\": [\"boiled\", \"for garnishing\"], \"extendedName\": \"cooked egg & fried onions\", \"image\": \"https://img.spoonacular.com/ingredients_100x100/fried-onions.jpg\"}], \"usedIngredients\": [{\"id\": 10020444, \"amount\": 2.0, \"unit\": \"cups\", \"unitLong\": \"cups\", \"unitShort\": \"cup\", \"aisle\": \"Pasta and Rice\", \"name\": \"basmati rice\", \"original\": \"2 cups basmati rice\", \"originalName\": \"basmati rice\", \"meta\": [], \"image\": \"https://img.spoonacular.com/ingredients_100x100/rice-white-long-grain-or-basmatii-cooked.jpg\"}, {\"id\": 5006, \"amount\": 2.0, \"unit\": \"teaspoons\", \"unitLong\": \"teaspoons\", \"unitShort\": \"tsp\", \"aisle\": \"Meat\", \"name\": \"chicken biriyani masala\", \"original\": \"2 teaspoons chicken biriyani masala\", \"originalName\": \"chicken biriyani masala\", \"meta\": [], \"image\": \"https://img.spoonacular.com/ingredients_100x100/whole-chicken.jpg\"}], \"unusedIngredients\": [], \"likes\": 1}]', name='get_recipe', id='d51516e5-e8a1-4626-8748-a7b515985f27', tool_call_id='call_7qdk')]}}\n",
            "----\n",
            "{'agent': {'messages': [AIMessage(content='Here are two recipes that maximize the use of rice and chicken:\\n\\n**Recipe 1: Light and Chunky Chicken Soup**\\n\\nIngredients:\\n\\n* 1 cup basmati rice\\n* 1 whole Chicken\\n* 1 carrot, chopped\\n* 1 stick of celery, chopped\\n* 1/2 teaspoon dried basil\\n* 1/2 teaspoon dried rosemary\\n* 1/2 a large onion, chopped\\n* Salt and pepper to taste\\n\\nInstructions:\\n\\n1. Cook the basmati rice according to package instructions.\\n2. In a large pot, sauté the chopped onion, carrot, and celery in a little oil until tender.\\n3. Add the chicken to the pot and cook until browned.\\n4. Add the cooked rice, basil, rosemary, salt, and pepper to the pot. Stir well.\\n5. Serve hot.\\n\\n**Recipe 2: Hydrabadi Dum Biriyani**\\n\\nIngredients:\\n\\n* 2 cups basmati rice\\n* 2 leg pieces of Chicken\\n* 2 small onions, thinly sliced and fried\\n* 1 teaspoon garam masala\\n* 1/4 teaspoon turmeric powder\\n* 2 teaspoons ginger garlic paste\\n* 1 bunch coriander and mint leaves\\n* Ghee as required\\n* Saffron strands dissolved in warm milk\\n* Boiled egg and fried onions for garnishing\\n\\nInstructions:\\n\\n1. Cook the basmati rice according to package instructions.\\n2. In a separate pan, cook the leg pieces of chicken with the fried onions, garam masala, turmeric powder, ginger garlic paste, and coriander and mint leaves.\\n3. In a large pot, layer the cooked rice, chicken mixture, and saffron milk.\\n4. Repeat the layering process until all ingredients are used up, ending with a layer of rice on top.\\n5. Dot the top with ghee and cover with a tight-fitting lid.\\n6. Cook on low heat for 10-15 minutes or until the rice is cooked and the flavors have melded together.\\n7. Garnish with boiled egg and fried onions.\\n\\nI hope you enjoy these recipes!', additional_kwargs={}, response_metadata={'token_usage': {'completion_tokens': 446, 'prompt_tokens': 3637, 'total_tokens': 4083, 'completion_time': 0.371666667, 'prompt_time': 0.454472463, 'queue_time': 0.024120216000000028, 'total_time': 0.82613913}, 'model_name': 'llama3-8b-8192', 'system_fingerprint': 'fp_179b0f92c9', 'finish_reason': 'stop', 'logprobs': None}, id='run-515c7027-0a02-43e7-bf7d-caa70dfc076b-0', usage_metadata={'input_tokens': 3637, 'output_tokens': 446, 'total_tokens': 4083})]}}\n",
            "----\n"
          ]
        }
      ]
    },
    {
      "cell_type": "code",
      "source": [
        "GET https://api.spoonacular.com/recipes/findByIngredients\n"
      ],
      "metadata": {
        "id": "iQMwXN78Z9TL"
      },
      "execution_count": null,
      "outputs": []
    }
  ]
}